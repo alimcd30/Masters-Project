{
 "cells": [
  {
   "cell_type": "markdown",
   "metadata": {},
   "source": [
    "# Read and Merge 3 Months Data"
   ]
  },
  {
   "cell_type": "markdown",
   "metadata": {},
   "source": [
    "Import relevant modules"
   ]
  },
  {
   "cell_type": "code",
   "execution_count": 1,
   "metadata": {},
   "outputs": [],
   "source": [
    "import pandas as pd \n",
    "import numpy as np \n",
    "import matplotlib as plt"
   ]
  },
  {
   "cell_type": "markdown",
   "metadata": {},
   "source": [
    "Select relevant columns"
   ]
  },
  {
   "cell_type": "code",
   "execution_count": 2,
   "metadata": {},
   "outputs": [],
   "source": [
    "col_list = [\"TimeStamp\", \"Power_kW\",\"WindSpeed_mps\"]"
   ]
  },
  {
   "cell_type": "markdown",
   "metadata": {},
   "source": [
    "Read relevant columns from csv files"
   ]
  },
  {
   "cell_type": "code",
   "execution_count": 3,
   "metadata": {},
   "outputs": [],
   "source": [
    "df1 = pd.read_csv(r'C:\\Users\\AliMS\\Documents\\project\\code\\data\\2018_05.csv', usecols = col_list)\n",
    "df2 = pd.read_csv(r'C:\\Users\\AliMS\\Documents\\project\\code\\data\\2018_06.csv', usecols = col_list)\n",
    "df3 = pd.read_csv(r'C:\\Users\\AliMS\\Documents\\project\\code\\data\\2018_07.csv', usecols = col_list)"
   ]
  },
  {
   "cell_type": "markdown",
   "metadata": {},
   "source": [
    "Merge the data"
   ]
  },
  {
   "cell_type": "code",
   "execution_count": 4,
   "metadata": {},
   "outputs": [],
   "source": [
    "df = pd.concat([df1, df2, df3])"
   ]
  },
  {
   "cell_type": "markdown",
   "metadata": {},
   "source": [
    "Write to blank csv file"
   ]
  },
  {
   "cell_type": "code",
   "execution_count": 5,
   "metadata": {},
   "outputs": [],
   "source": [
    "df.to_csv(r'C:\\Users\\AliMS\\Documents\\project\\code\\data\\2018_567.csv')"
   ]
  },
  {
   "cell_type": "code",
   "execution_count": 6,
   "metadata": {},
   "outputs": [
    {
     "data": {
      "text/html": [
       "<div>\n",
       "<style scoped>\n",
       "    .dataframe tbody tr th:only-of-type {\n",
       "        vertical-align: middle;\n",
       "    }\n",
       "\n",
       "    .dataframe tbody tr th {\n",
       "        vertical-align: top;\n",
       "    }\n",
       "\n",
       "    .dataframe thead th {\n",
       "        text-align: right;\n",
       "    }\n",
       "</style>\n",
       "<table border=\"1\" class=\"dataframe\">\n",
       "  <thead>\n",
       "    <tr style=\"text-align: right;\">\n",
       "      <th></th>\n",
       "      <th>TimeStamp</th>\n",
       "      <th>Power_kW</th>\n",
       "      <th>WindSpeed_mps</th>\n",
       "    </tr>\n",
       "  </thead>\n",
       "  <tbody>\n",
       "    <tr>\n",
       "      <th>0</th>\n",
       "      <td>2018-05-01 00:00:00.330</td>\n",
       "      <td>0.0</td>\n",
       "      <td>1.821885</td>\n",
       "    </tr>\n",
       "    <tr>\n",
       "      <th>1</th>\n",
       "      <td>2018-05-01 00:00:01.462</td>\n",
       "      <td>0.0</td>\n",
       "      <td>1.821885</td>\n",
       "    </tr>\n",
       "    <tr>\n",
       "      <th>2</th>\n",
       "      <td>2018-05-01 00:00:02.483</td>\n",
       "      <td>0.0</td>\n",
       "      <td>1.891693</td>\n",
       "    </tr>\n",
       "    <tr>\n",
       "      <th>3</th>\n",
       "      <td>2018-05-01 00:00:03.505</td>\n",
       "      <td>0.0</td>\n",
       "      <td>1.891693</td>\n",
       "    </tr>\n",
       "    <tr>\n",
       "      <th>4</th>\n",
       "      <td>2018-05-01 00:00:04.556</td>\n",
       "      <td>0.0</td>\n",
       "      <td>1.896271</td>\n",
       "    </tr>\n",
       "    <tr>\n",
       "      <th>...</th>\n",
       "      <td>...</td>\n",
       "      <td>...</td>\n",
       "      <td>...</td>\n",
       "    </tr>\n",
       "    <tr>\n",
       "      <th>2624997</th>\n",
       "      <td>2018-07-31 23:59:54.929</td>\n",
       "      <td>6476.0</td>\n",
       "      <td>11.327270</td>\n",
       "    </tr>\n",
       "    <tr>\n",
       "      <th>2624998</th>\n",
       "      <td>2018-07-31 23:59:55.950</td>\n",
       "      <td>6476.0</td>\n",
       "      <td>11.327270</td>\n",
       "    </tr>\n",
       "    <tr>\n",
       "      <th>2624999</th>\n",
       "      <td>2018-07-31 23:59:56.952</td>\n",
       "      <td>6516.0</td>\n",
       "      <td>12.629600</td>\n",
       "    </tr>\n",
       "    <tr>\n",
       "      <th>2625000</th>\n",
       "      <td>2018-07-31 23:59:57.993</td>\n",
       "      <td>6516.0</td>\n",
       "      <td>12.629600</td>\n",
       "    </tr>\n",
       "    <tr>\n",
       "      <th>2625001</th>\n",
       "      <td>2018-07-31 23:59:59.015</td>\n",
       "      <td>6516.0</td>\n",
       "      <td>12.629600</td>\n",
       "    </tr>\n",
       "  </tbody>\n",
       "</table>\n",
       "<p>7621349 rows × 3 columns</p>\n",
       "</div>"
      ],
      "text/plain": [
       "                       TimeStamp  Power_kW  WindSpeed_mps\n",
       "0        2018-05-01 00:00:00.330       0.0       1.821885\n",
       "1        2018-05-01 00:00:01.462       0.0       1.821885\n",
       "2        2018-05-01 00:00:02.483       0.0       1.891693\n",
       "3        2018-05-01 00:00:03.505       0.0       1.891693\n",
       "4        2018-05-01 00:00:04.556       0.0       1.896271\n",
       "...                          ...       ...            ...\n",
       "2624997  2018-07-31 23:59:54.929    6476.0      11.327270\n",
       "2624998  2018-07-31 23:59:55.950    6476.0      11.327270\n",
       "2624999  2018-07-31 23:59:56.952    6516.0      12.629600\n",
       "2625000  2018-07-31 23:59:57.993    6516.0      12.629600\n",
       "2625001  2018-07-31 23:59:59.015    6516.0      12.629600\n",
       "\n",
       "[7621349 rows x 3 columns]"
      ]
     },
     "execution_count": 6,
     "metadata": {},
     "output_type": "execute_result"
    }
   ],
   "source": [
    "df"
   ]
  },
  {
   "cell_type": "code",
   "execution_count": null,
   "metadata": {},
   "outputs": [],
   "source": []
  }
 ],
 "metadata": {
  "kernelspec": {
   "display_name": "Python 3",
   "language": "python",
   "name": "python3"
  },
  "language_info": {
   "codemirror_mode": {
    "name": "ipython",
    "version": 3
   },
   "file_extension": ".py",
   "mimetype": "text/x-python",
   "name": "python",
   "nbconvert_exporter": "python",
   "pygments_lexer": "ipython3",
   "version": "3.7.9"
  }
 },
 "nbformat": 4,
 "nbformat_minor": 4
}
