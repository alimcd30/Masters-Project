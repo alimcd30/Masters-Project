{
 "cells": [
  {
   "cell_type": "markdown",
   "metadata": {},
   "source": [
    "# Reconstruct DWT and calculate errors"
   ]
  },
  {
   "cell_type": "markdown",
   "metadata": {},
   "source": [
    "Import relevant modules"
   ]
  },
  {
   "cell_type": "code",
   "execution_count": null,
   "metadata": {},
   "outputs": [],
   "source": [
    "import pandas as pd \n",
    "import numpy as np \n",
    "import matplotlib.pyplot as plt\n",
    "import seaborn as sns\n",
    "import pywt\n",
    "from sklearn.metrics import mean_absolute_error\n",
    "from sklearn.metrics import mean_squared_error\n",
    "from sklearn.preprocessing import MinMaxScaler"
   ]
  },
  {
   "cell_type": "markdown",
   "metadata": {},
   "source": [
    "Read coefficients"
   ]
  },
  {
   "cell_type": "code",
   "execution_count": null,
   "metadata": {},
   "outputs": [],
   "source": [
    "a3 = pd.read_csv(r'C:\\Users\\AliMS\\Documents\\project\\code\\data\\10_2018_pred_dwt_a3.csv', usecols = ['a3'])\n",
    "d3 = pd.read_csv(r'C:\\Users\\AliMS\\Documents\\project\\code\\data\\10_2018_pred_dwt_d3.csv', usecols = ['d3'])\n",
    "d2 = pd.read_csv(r'C:\\Users\\AliMS\\Documents\\project\\code\\data\\10_2018_pred_dwt_d2.csv', usecols = ['d2'])\n",
    "d1 = pd.read_csv(r'C:\\Users\\AliMS\\Documents\\project\\code\\data\\10_2018_pred_dwt_d1.csv', usecols = ['d1'])\n",
    "measured = pd.read_csv(r'C:\\Users\\AliMS\\Documents\\project\\code\\data\\10_2018_567_if.csv', usecols = ['Power_kW'])"
   ]
  },
  {
   "cell_type": "markdown",
   "metadata": {},
   "source": [
    "Combine coefficients"
   ]
  },
  {
   "cell_type": "code",
   "execution_count": null,
   "metadata": {},
   "outputs": [],
   "source": [
    "df = d1.join(d2)\n",
    "df = df.join(d3)\n",
    "df = df.join(a3)"
   ]
  },
  {
   "cell_type": "markdown",
   "metadata": {},
   "source": [
    "Convert to numpy arrays"
   ]
  },
  {
   "cell_type": "code",
   "execution_count": null,
   "metadata": {},
   "outputs": [],
   "source": [
    "a3 = a3.to_numpy()\n",
    "d3 = d3.to_numpy()\n",
    "d2 = d2.to_numpy()\n",
    "d1 = d1.to_numpy()"
   ]
  },
  {
   "cell_type": "markdown",
   "metadata": {},
   "source": [
    "Reconstruct and correct length"
   ]
  },
  {
   "cell_type": "code",
   "execution_count": null,
   "metadata": {},
   "outputs": [],
   "source": [
    "predicted = pywt.waverec([a3, d3, d2, d1], 'db4', axis = 0)\n",
    "predicted = predicted[1:,:]\n",
    "predicted = pd.DataFrame(predicted)\n",
    "predicted = predicted.rename(columns = {0:'measured'})"
   ]
  },
  {
   "cell_type": "markdown",
   "metadata": {},
   "source": [
    "Calculate MAE"
   ]
  },
  {
   "cell_type": "code",
   "execution_count": null,
   "metadata": {},
   "outputs": [],
   "source": [
    "mean_absolute_error(measured, predicted)"
   ]
  },
  {
   "cell_type": "markdown",
   "metadata": {},
   "source": [
    "Calculate RMSE"
   ]
  },
  {
   "cell_type": "code",
   "execution_count": null,
   "metadata": {},
   "outputs": [],
   "source": [
    "rmse = mean_squared_error(measured, predicted, squared = False)\n",
    "rmse"
   ]
  },
  {
   "cell_type": "markdown",
   "metadata": {},
   "source": [
    "Calculate NRMSE"
   ]
  },
  {
   "cell_type": "code",
   "execution_count": null,
   "metadata": {},
   "outputs": [],
   "source": [
    "Max = measured.max()\n",
    "Min = measured.min()\n",
    "max_min = Max - Min\n",
    "nrmse = rmse/max_min\n",
    "nrmse"
   ]
  },
  {
   "cell_type": "markdown",
   "metadata": {},
   "source": [
    "Plot and save figure comparison"
   ]
  },
  {
   "cell_type": "code",
   "execution_count": null,
   "metadata": {},
   "outputs": [],
   "source": [
    "plt.figure(num=None, figsize=(20, 6), dpi=80)\n",
    "plt.plot(predicted, label='Predicted')\n",
    "plt.plot(measured, label='Measurements')\n",
    "plt.legend()\n",
    "plt.xlabel('Data Point')\n",
    "plt.ylabel('Power/kW')\n",
    "plt.savefig(r'C:\\Users\\AliMS\\Documents\\project\\report\\report_results\\combined_results.png', bbox_inches='tight', dpi = 300)"
   ]
  },
  {
   "cell_type": "markdown",
   "metadata": {},
   "source": [
    "Plot and save figure single"
   ]
  },
  {
   "cell_type": "code",
   "execution_count": null,
   "metadata": {},
   "outputs": [],
   "source": [
    "plt.figure(num=None, figsize=(20, 6), dpi=80)\n",
    "plt.plot(predicted, label='Predicted')\n",
    "plt.xlabel('Data Point')\n",
    "plt.ylabel('Power/kW')\n",
    "plt.savefig(r'C:\\Users\\AliMS\\Documents\\project\\report\\report_results\\lstm_1_results.png', bbox_inches='tight', dpi = 300)"
   ]
  }
 ],
 "metadata": {
  "kernelspec": {
   "display_name": "Python 3",
   "language": "python",
   "name": "python3"
  },
  "language_info": {
   "codemirror_mode": {
    "name": "ipython",
    "version": 3
   },
   "file_extension": ".py",
   "mimetype": "text/x-python",
   "name": "python",
   "nbconvert_exporter": "python",
   "pygments_lexer": "ipython3",
   "version": "3.7.9"
  }
 },
 "nbformat": 4,
 "nbformat_minor": 4
}
