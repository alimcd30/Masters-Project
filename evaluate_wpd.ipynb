{
 "cells": [
  {
   "cell_type": "markdown",
   "metadata": {},
   "source": [
    "# Reconstruct WPD and find errors"
   ]
  },
  {
   "cell_type": "markdown",
   "metadata": {},
   "source": [
    "Import relevant modules"
   ]
  },
  {
   "cell_type": "code",
   "execution_count": null,
   "metadata": {},
   "outputs": [],
   "source": [
    "import pandas as pd \n",
    "import numpy as np \n",
    "import matplotlib.pyplot as plt\n",
    "import seaborn as sns\n",
    "import pywt\n",
    "from sklearn.metrics import mean_absolute_error\n",
    "from sklearn.metrics import mean_squared_error\n",
    "from sklearn.preprocessing import MinMaxScaler"
   ]
  },
  {
   "cell_type": "markdown",
   "metadata": {},
   "source": [
    "Read coefficients"
   ]
  },
  {
   "cell_type": "code",
   "execution_count": null,
   "metadata": {},
   "outputs": [],
   "source": [
    "aaa = pd.read_csv(r'C:\\Users\\AliMS\\Documents\\project\\code\\data\\10_2018_pred_wpd_aaa.csv', usecols = ['aaa'])\n",
    "daa = pd.read_csv(r'C:\\Users\\AliMS\\Documents\\project\\code\\data\\10_2018_pred_wpd_daa.csv', usecols = ['daa'])\n",
    "ada = pd.read_csv(r'C:\\Users\\AliMS\\Documents\\project\\code\\data\\10_2018_pred_wpd_ada.csv', usecols = ['ada'])\n",
    "dda = pd.read_csv(r'C:\\Users\\AliMS\\Documents\\project\\code\\data\\10_2018_pred_wpd_dda.csv', usecols = ['dda'])\n",
    "aad = pd.read_csv(r'C:\\Users\\AliMS\\Documents\\project\\code\\data\\10_2018_pred_wpd_aad.csv', usecols = ['aad'])\n",
    "dad = pd.read_csv(r'C:\\Users\\AliMS\\Documents\\project\\code\\data\\10_2018_pred_wpd_dad.csv', usecols = ['dad'])\n",
    "add = pd.read_csv(r'C:\\Users\\AliMS\\Documents\\project\\code\\data\\10_2018_pred_wpd_add.csv', usecols = ['add'])\n",
    "ddd = pd.read_csv(r'C:\\Users\\AliMS\\Documents\\project\\code\\data\\10_2018_pred_wpd_ddd.csv', usecols = ['ddd'])\n",
    "measured = pd.read_csv(r'C:\\Users\\AliMS\\Documents\\project\\code\\data\\10_2018_567_if.csv', usecols = ['Power_kW'])"
   ]
  },
  {
   "cell_type": "markdown",
   "metadata": {},
   "source": [
    "Create blank wavelet packet"
   ]
  },
  {
   "cell_type": "code",
   "execution_count": null,
   "metadata": {},
   "outputs": [],
   "source": [
    "new_wp = pywt.WaveletPacket(data = None, wavelet = 'db4', maxlevel = 3)"
   ]
  },
  {
   "cell_type": "markdown",
   "metadata": {},
   "source": [
    "Fill blank WPD with coefficient data"
   ]
  },
  {
   "cell_type": "code",
   "execution_count": null,
   "metadata": {},
   "outputs": [],
   "source": [
    "new_wp['aaa'] = aaa   \n",
    "new_wp['daa'] = daa\n",
    "new_wp['ada'] = ada\n",
    "new_wp['dda'] = dda\n",
    "new_wp['aad'] = aad\n",
    "new_wp['dad'] = dad\n",
    "new_wp['add'] = add\n",
    "new_wp['ddd'] = ddd"
   ]
  },
  {
   "cell_type": "markdown",
   "metadata": {},
   "source": [
    "Reshape coefficients"
   ]
  },
  {
   "cell_type": "code",
   "execution_count": null,
   "metadata": {},
   "outputs": [],
   "source": [
    "new_wp['aaa'] = new_wp['aaa'].data.flatten()\n",
    "new_wp['daa'] = new_wp['daa'].data.flatten()\n",
    "new_wp['ada'] = new_wp['ada'].data.flatten()\n",
    "new_wp['dda'] = new_wp['dda'].data.flatten()\n",
    "new_wp['aad'] = new_wp['aad'].data.flatten()\n",
    "new_wp['dad'] = new_wp['dad'].data.flatten()\n",
    "new_wp['add'] = new_wp['add'].data.flatten()\n",
    "new_wp['ddd'] = new_wp['ddd'].data.flatten()"
   ]
  },
  {
   "cell_type": "markdown",
   "metadata": {},
   "source": [
    "Reconstruct WPD"
   ]
  },
  {
   "cell_type": "code",
   "execution_count": null,
   "metadata": {},
   "outputs": [],
   "source": [
    "predicted = new_wp.reconstruct(update = True)"
   ]
  },
  {
   "cell_type": "markdown",
   "metadata": {},
   "source": [
    "Correct length"
   ]
  },
  {
   "cell_type": "code",
   "execution_count": null,
   "metadata": {},
   "outputs": [],
   "source": [
    "predicted = predicted[:-3]"
   ]
  },
  {
   "cell_type": "markdown",
   "metadata": {},
   "source": [
    "Convert to pandas dataframe"
   ]
  },
  {
   "cell_type": "code",
   "execution_count": null,
   "metadata": {},
   "outputs": [],
   "source": [
    "predicted = pd.DataFrame(predicted)"
   ]
  },
  {
   "cell_type": "markdown",
   "metadata": {},
   "source": [
    "Find MAE"
   ]
  },
  {
   "cell_type": "code",
   "execution_count": null,
   "metadata": {},
   "outputs": [],
   "source": [
    "mean_absolute_error(measured, predicted)"
   ]
  },
  {
   "cell_type": "markdown",
   "metadata": {},
   "source": [
    "Find RMSE"
   ]
  },
  {
   "cell_type": "code",
   "execution_count": null,
   "metadata": {},
   "outputs": [],
   "source": [
    "rmse = mean_squared_error(measured, predicted, squared = False)\n",
    "mean_squared_error(measured, predicted, squared = False)"
   ]
  },
  {
   "cell_type": "markdown",
   "metadata": {},
   "source": [
    "Find NRMSE"
   ]
  },
  {
   "cell_type": "code",
   "execution_count": null,
   "metadata": {},
   "outputs": [],
   "source": [
    "Max = measured.max()\n",
    "Min = measured.min()\n",
    "max_min = Max - Min\n",
    "nrmse = rmse/max_min\n",
    "nrmse"
   ]
  }
 ],
 "metadata": {
  "kernelspec": {
   "display_name": "Python 3",
   "language": "python",
   "name": "python3"
  },
  "language_info": {
   "codemirror_mode": {
    "name": "ipython",
    "version": 3
   },
   "file_extension": ".py",
   "mimetype": "text/x-python",
   "name": "python",
   "nbconvert_exporter": "python",
   "pygments_lexer": "ipython3",
   "version": "3.7.9"
  }
 },
 "nbformat": 4,
 "nbformat_minor": 4
}
