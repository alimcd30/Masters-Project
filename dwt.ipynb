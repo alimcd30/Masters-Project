{
 "cells": [
  {
   "cell_type": "markdown",
   "metadata": {},
   "source": [
    "# Discrete Wavelet Transform"
   ]
  },
  {
   "cell_type": "markdown",
   "metadata": {},
   "source": [
    "Import relevant modules"
   ]
  },
  {
   "cell_type": "code",
   "execution_count": null,
   "metadata": {},
   "outputs": [],
   "source": [
    "import pandas as pd \n",
    "import numpy as np \n",
    "import matplotlib.pyplot as plt\n",
    "import seaborn as sns\n",
    "import pywt\n",
    "from sklearn.preprocessing import StandardScaler"
   ]
  },
  {
   "cell_type": "markdown",
   "metadata": {},
   "source": [
    "Select relevant columns"
   ]
  },
  {
   "cell_type": "code",
   "execution_count": null,
   "metadata": {},
   "outputs": [],
   "source": [
    "col_list = [\"TimeStamp\", \"Power_kW\"]"
   ]
  },
  {
   "cell_type": "markdown",
   "metadata": {},
   "source": [
    "Read data"
   ]
  },
  {
   "cell_type": "code",
   "execution_count": null,
   "metadata": {},
   "outputs": [],
   "source": [
    "df = pd.read_csv(r'C:\\Users\\AliMS\\Documents\\project\\code\\data\\10_2018_567_if.csv', usecols = col_list)"
   ]
  },
  {
   "cell_type": "markdown",
   "metadata": {},
   "source": [
    "Convert to date time format"
   ]
  },
  {
   "cell_type": "code",
   "execution_count": null,
   "metadata": {},
   "outputs": [],
   "source": [
    "df['TimeStamp'] = pd.to_datetime(df['TimeStamp'])\n",
    "df.set_index('TimeStamp', inplace = True)"
   ]
  },
  {
   "cell_type": "markdown",
   "metadata": {},
   "source": [
    "Perform DWT"
   ]
  },
  {
   "cell_type": "code",
   "execution_count": null,
   "metadata": {},
   "outputs": [],
   "source": [
    "coeffs = pywt.wavedec(df, 'db4', level = 3, axis = 0)\n",
    "cA3, cD3, cD2, cD1 = coeffs"
   ]
  },
  {
   "cell_type": "markdown",
   "metadata": {},
   "source": [
    "One numpy array per coefficient"
   ]
  },
  {
   "cell_type": "code",
   "execution_count": null,
   "metadata": {},
   "outputs": [],
   "source": [
    "a3 = pd.DataFrame(cA3)\n",
    "d3 = pd.DataFrame(cD3)\n",
    "d2 = pd.DataFrame(cD2)\n",
    "d1 = pd.DataFrame(cD1)"
   ]
  },
  {
   "cell_type": "markdown",
   "metadata": {},
   "source": [
    "Rename columns"
   ]
  },
  {
   "cell_type": "code",
   "execution_count": null,
   "metadata": {},
   "outputs": [],
   "source": [
    "a3 = a3.rename(columns = {0:'a3'})\n",
    "d3 = d3.rename(columns = {0:'d3'})\n",
    "d2 = d2.rename(columns = {0:'d2'})\n",
    "d1 = d1.rename(columns = {0:'d1'})"
   ]
  },
  {
   "cell_type": "markdown",
   "metadata": {},
   "source": [
    "Write to blank csv files"
   ]
  },
  {
   "cell_type": "code",
   "execution_count": null,
   "metadata": {},
   "outputs": [],
   "source": [
    "a3.to_csv(r'C:\\Users\\AliMS\\Documents\\project\\code\\data\\10_2018_dwt_a3.csv')\n",
    "d3.to_csv(r'C:\\Users\\AliMS\\Documents\\project\\code\\data\\10_2018_dwt_d3.csv')\n",
    "d2.to_csv(r'C:\\Users\\AliMS\\Documents\\project\\code\\data\\10_2018_dwt_d2.csv')\n",
    "d1.to_csv(r'C:\\Users\\AliMS\\Documents\\project\\code\\data\\10_2018_dwt_d1.csv')"
   ]
  },
  {
   "cell_type": "code",
   "execution_count": null,
   "metadata": {},
   "outputs": [],
   "source": [
    "d1 = d1.join(d2)\n",
    "d1 = d1.join(d3)\n",
    "d1 = d1.join(a3)"
   ]
  },
  {
   "cell_type": "code",
   "execution_count": null,
   "metadata": {},
   "outputs": [],
   "source": [
    "d1.to_csv(r'C:\\Users\\AliMS\\Documents\\project\\code\\data\\10_2018_dwt.csv')"
   ]
  }
 ],
 "metadata": {
  "kernelspec": {
   "display_name": "Python 3",
   "language": "python",
   "name": "python3"
  },
  "language_info": {
   "codemirror_mode": {
    "name": "ipython",
    "version": 3
   },
   "file_extension": ".py",
   "mimetype": "text/x-python",
   "name": "python",
   "nbconvert_exporter": "python",
   "pygments_lexer": "ipython3",
   "version": "3.7.9"
  }
 },
 "nbformat": 4,
 "nbformat_minor": 4
}
